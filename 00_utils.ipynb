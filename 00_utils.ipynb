{
 "cells": [
  {
   "cell_type": "code",
   "execution_count": null,
   "metadata": {},
   "outputs": [],
   "source": [
    "# default_exp utils"
   ]
  },
  {
   "cell_type": "markdown",
   "metadata": {},
   "source": [
    "# arg_tools\n",
    "\n",
    "> A toolset for rosbag created by arg lab."
   ]
  },
  {
   "cell_type": "code",
   "execution_count": null,
   "metadata": {},
   "outputs": [],
   "source": [
    "#hide\n",
    "from nbdev.showdoc import *"
   ]
  },
  {
   "cell_type": "code",
   "execution_count": null,
   "metadata": {},
   "outputs": [],
   "source": [
    "#export\n",
    "\n",
    "import os\n",
    "import sys\n",
    "import gdown\n",
    "import copy\n",
    "import math\n",
    "from zipfile import ZipFile\n",
    "\n",
    "def gdown_unzip(id, filename):\n",
    "    \"\"\"download a zipfile and unzip it under data directory\n",
    "    \"\"\"\n",
    "    dataset_url = 'https://drive.google.com/u/1/uc?id=' + id\n",
    "    dataset_name = \"data/\" + filename\n",
    "\n",
    "    if not os.path.isdir(dataset_name):\n",
    "        gdown.download(dataset_url, output = dataset_name + '.zip', quiet=False)\n",
    "        zip_file = ZipFile( dataset_name + '.zip')\n",
    "        #zip_file.extractall()\n",
    "        zip_file.extractall(\"data/\") # depends on how to zip it\n",
    "        zip_file.close()\n",
    "\n",
    "\n",
    "def pose_dis(pose_1, pose_2):\n",
    "    \"\"\"Compute distance between pose_1 and pose_2\n",
    "    \"\"\"\n",
    "    x = pose_1.position.x - pose_2.position.x\n",
    "    y = pose_1.position.y - pose_2.position.y\n",
    "    z = pose_1.position.z - pose_2.position.z\n",
    "\n",
    "    dis = math.sqrt(x**2+y**2+z**2)\n",
    "\n",
    "    return dis\n",
    "\n",
    "def waypoint(current_pose, target_pose):\n",
    "    \"\"\"Generate a list of way points from current pose to target pose\n",
    "\n",
    "    Input : current pose, target pose\n",
    "    Return : a list of way points\n",
    "\n",
    "    \"\"\"\n",
    "    waypoint_list = []\n",
    "    factor = 0.5\n",
    "    sub_pose = current_pose.copy()\n",
    "\n",
    "    # threshold : distance between sub_pose and target_pose = 0.05 meter\n",
    "    while pose_dis(current_pose, target_pose) > 0.05:\n",
    "        sub_pose.position.x = (sub_pose.position.x + target_pose.position.x)*factor\n",
    "        sub_pose.position.y = (sub_pose.position.y + target_pose.position.y)*factor\n",
    "        sub_pose.position.z = (sub_pose.position.z + target_pose.position.z)*factor\n",
    "\n",
    "        waypoint_list.append(sub_pose.copy())\n",
    "\n",
    "    waypoint_list.append(target_pose)\n",
    "\n",
    "    return waypoint_list"
   ]
  },
  {
   "cell_type": "markdown",
   "metadata": {},
   "source": [
    "## Testing example\n",
    "id is the google drive id, filename is your filename in google drive (should be a .zip file )"
   ]
  },
  {
   "cell_type": "code",
   "execution_count": null,
   "metadata": {},
   "outputs": [],
   "source": [
    "#hide\n",
    "id = '1cSlh3DvfhyKZ2wWj15cm5SPq2vH5oQIF'\n",
    "filename = \"subt_apriltags\"\n",
    "gdown_unzip(id, filename)"
   ]
  },
  {
   "cell_type": "code",
   "execution_count": null,
   "metadata": {},
   "outputs": [],
   "source": [
    "#hide\n",
    "ls data && ls data/subt_apriltags"
   ]
  },
  {
   "cell_type": "code",
   "execution_count": null,
   "metadata": {},
   "outputs": [],
   "source": []
  }
 ],
 "metadata": {
  "kernelspec": {
   "display_name": "Python 3",
   "language": "python",
   "name": "python3"
  },
  "language_info": {
   "codemirror_mode": {
    "name": "ipython",
    "version": 3
   },
   "file_extension": ".py",
   "mimetype": "text/x-python",
   "name": "python",
   "nbconvert_exporter": "python",
   "pygments_lexer": "ipython3",
   "version": "3.8.10"
  }
 },
 "nbformat": 4,
 "nbformat_minor": 2
}
