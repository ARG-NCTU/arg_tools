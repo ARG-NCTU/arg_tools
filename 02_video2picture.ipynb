{
 "cells": [
  {
   "cell_type": "code",
   "execution_count": null,
   "metadata": {},
   "outputs": [],
   "source": [
    "# default_exp video2picture"
   ]
  },
  {
   "cell_type": "markdown",
   "metadata": {},
   "source": [
    "# arg_tools\n",
    "\n",
    "> A toolset for rosbag created by arg lab."
   ]
  },
  {
   "cell_type": "code",
   "execution_count": null,
   "metadata": {},
   "outputs": [],
   "source": [
    "#hide\n",
    "from nbdev.showdoc import *"
   ]
  },
  {
   "cell_type": "code",
   "execution_count": null,
   "metadata": {},
   "outputs": [],
   "source": [
    "#export\n",
    "import gdown\n",
    "from zipfile import ZipFile\n",
    "from PIL import Image\n",
    "import sys\n",
    "import os\n",
    "import cv2\n",
    "\n",
    "def gdown_unzip(id, filename):\n",
    "    \"\"\"download a zipfile and unzip it under data directory\n",
    "    \"\"\"\n",
    "    dataset_url = 'https://drive.google.com/u/1/uc?id=' + id\n",
    "    dataset_name = \"data/\"+filename\n",
    "\n",
    "    if not os.path.isdir(dataset_name):\n",
    "        gdown.download(dataset_url, output = dataset_name + '.zip', quiet=False)\n",
    "        zip_file = ZipFile( dataset_name + '.zip')\n",
    "        #zip_file.extractall()\n",
    "        zip_file.extractall(\"data/\") # depends on how to zip it\n",
    "        zip_file.close()"
   ]
  },
  {
   "cell_type": "code",
   "execution_count": null,
   "metadata": {},
   "outputs": [],
   "source": [
    "def get_images_from_video(video_name, time_F):\n",
    "    video_images = []\n",
    "    vc = cv2.VideoCapture(video_name)\n",
    "    c = 1\n",
    "    \n",
    "    if vc.isOpened(): \n",
    "        rval, video_frame = vc.read()\n",
    "    else:\n",
    "        rval = False\n",
    "\n",
    "    while rval:  \n",
    "        rval, video_frame = vc.read()\n",
    "        \n",
    "        if(c % time_F == 0): \n",
    "            video_images.append(video_frame)     \n",
    "        c = c + 1\n",
    "    vc.release()\n",
    "    \n",
    "    return video_images"
   ]
  },
  {
   "cell_type": "markdown",
   "metadata": {},
   "source": [
    "## Testing example\n",
    "id is the google drive id, filename is your filename in google drive (should be a .zip file )"
   ]
  },
  {
   "cell_type": "code",
   "execution_count": null,
   "metadata": {},
   "outputs": [],
   "source": [
    "id = '12Z8WrveD5sriwKjepYxqXjE1jg9KRhLz'\n",
    "filename = \"wamv_5_16\"\n",
    "gdown_unzip(id, filename)\n",
    "print(\"\\n Finished downloading.\")"
   ]
  },
  {
   "cell_type": "code",
   "execution_count": null,
   "metadata": {},
   "outputs": [],
   "source": [
    "mkdir \"data/\"output"
   ]
  },
  {
   "cell_type": "code",
   "execution_count": null,
   "metadata": {},
   "outputs": [],
   "source": [
    "time_F = 500\n",
    "video_name = 'data/wamv_5_16.mp4' \n",
    "video_images = get_images_from_video(video_name, time_F) \n",
    "\n",
    "for i in range(0, len(video_images)): \n",
    "    cv2.imwrite('data/output/%dout.jpg'%i,video_images[i])\n",
    "\n",
    "cv2.destroyAllWindows\n",
    "print(\"\\n Finished.\")"
   ]
  }
 ],
 "metadata": {
  "kernelspec": {
   "display_name": "Python 3 (ipykernel)",
   "language": "python",
   "name": "python3"
  },
  "language_info": {
   "codemirror_mode": {
    "name": "ipython",
    "version": 3
   },
   "file_extension": ".py",
   "mimetype": "text/x-python",
   "name": "python",
   "nbconvert_exporter": "python",
   "pygments_lexer": "ipython3",
   "version": "3.8.10"
  }
 },
 "nbformat": 4,
 "nbformat_minor": 2
}
