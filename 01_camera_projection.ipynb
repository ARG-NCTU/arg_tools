{
 "cells": [
  {
   "cell_type": "code",
   "execution_count": 1,
   "id": "4199c736",
   "metadata": {},
   "outputs": [],
   "source": [
    "# default_exp core"
   ]
  },
  {
   "cell_type": "markdown",
   "id": "29902dc3",
   "metadata": {},
   "source": [
    "# arg_navi_tools\n",
    "\n",
    "> A toolset for ."
   ]
  },
  {
   "cell_type": "code",
   "execution_count": 2,
   "id": "8f2d3ac1",
   "metadata": {},
   "outputs": [],
   "source": [
    "#hide\n",
    "from nbdev.showdoc import *"
   ]
  },
  {
   "cell_type": "code",
   "execution_count": 3,
   "id": "f0eae6c6",
   "metadata": {},
   "outputs": [
    {
     "ename": "ModuleNotFoundError",
     "evalue": "No module named 'apriltag'",
     "output_type": "error",
     "traceback": [
      "\u001b[0;31m---------------------------------------------------------------------------\u001b[0m",
      "\u001b[0;31mModuleNotFoundError\u001b[0m                       Traceback (most recent call last)",
      "Input \u001b[0;32mIn [3]\u001b[0m, in \u001b[0;36m<cell line: 7>\u001b[0;34m()\u001b[0m\n\u001b[1;32m      5\u001b[0m \u001b[38;5;28;01mimport\u001b[39;00m \u001b[38;5;21;01mcv2\u001b[39;00m\n\u001b[1;32m      6\u001b[0m \u001b[38;5;28;01mfrom\u001b[39;00m \u001b[38;5;21;01mcv2\u001b[39;00m \u001b[38;5;28;01mimport\u001b[39;00m aruco\n\u001b[0;32m----> 7\u001b[0m \u001b[38;5;28;01mimport\u001b[39;00m \u001b[38;5;21;01mapriltag\u001b[39;00m\n\u001b[1;32m      8\u001b[0m \u001b[38;5;28;01mimport\u001b[39;00m \u001b[38;5;21;01mtime\u001b[39;00m\n\u001b[1;32m      9\u001b[0m \u001b[38;5;28;01mimport\u001b[39;00m \u001b[38;5;21;01myaml\u001b[39;00m\n",
      "\u001b[0;31mModuleNotFoundError\u001b[0m: No module named 'apriltag'"
     ]
    }
   ],
   "source": [
    "#|export\n",
    "\n",
    "import numpy as np\n",
    "import scipy as sp\n",
    "import cv2\n",
    "from cv2 import aruco\n",
    "import apriltag\n",
    "import time\n",
    "import yaml\n",
    "\n",
    "import pytransform3d.rotations as pr\n",
    "from mpl_toolkits.mplot3d import Axes3D\n",
    "import matplotlib.pyplot as plt\n",
    "import matplotlib as mpl\n",
    "\n",
    "import os\n",
    "import sys\n",
    "import gdown\n",
    "from zipfile import ZipFile\n",
    "\n",
    "from scipy.spatial.transform import Rotation as R\n",
    "from numpy.linalg import inv"
   ]
  },
  {
   "cell_type": "code",
   "execution_count": null,
   "id": "e4e2a6ed",
   "metadata": {},
   "outputs": [],
   "source": [
    "def gdown_unzip(id, filename):\n",
    "    dataset_url = 'https://drive.google.com/u/1/uc?id=' + id\n",
    "    dataset_name = filename\n",
    "        \n",
    "    if not os.path.isdir(dataset_name):\n",
    "        gdown.download(dataset_url, output=dataset_name + '.zip', quiet=False)\n",
    "        zip_file = ZipFile(dataset_name + '.zip')\n",
    "        zip_file.extractall()\n",
    "        #zip_file.extractall(dataset_name) # depends on how to zip it\n",
    "        zip_file.close()"
   ]
  },
  {
   "cell_type": "code",
   "execution_count": null,
   "id": "66159669",
   "metadata": {},
   "outputs": [],
   "source": [
    "id = '1DN5tiV_WII_aJM3DLijPnq5OLtI0HAq1'\n",
    "filename = \"ViperX_apriltags\"\n",
    "gdown_unzip(id, filename)"
   ]
  },
  {
   "cell_type": "code",
   "execution_count": null,
   "id": "9ea382a3",
   "metadata": {},
   "outputs": [],
   "source": [
    "class camera_projection:\n",
    "    def __init__(self):\n",
    "        self.id = '1DN5tiV_WII_aJM3DLijPnq5OLtI0HAq1'\n",
    "        self.filename = \"ViperX_apriltags\"\n",
    "        self.camera_info_path = 'ViperX_apriltags/camera_info.yaml'\n",
    "        self.img_path = 'ViperX_apriltags/rgb/'\n",
    "        self.depth_path = 'ViperX_apriltags/depth/'\n",
    "        self.identity = np.identity(4)\n",
    "        self.tag_size = 0.0415\n",
    "        self.s = 0.5 * self.tag_size\n",
    "        self.joints = ['Joint_1_pose', 'Joint_2_pose', \n",
    "                       'Joint_3_pose', 'Joint_4_pose', \n",
    "                       'Joint_5_pose', 'Joint_6_pose']\n",
    "        \n",
    "    def read_camera_info(self):\n",
    "        with open(self.camera_info_path, \"r\") as stream:\n",
    "            try:\n",
    "                camera_data = yaml.safe_load(stream)\n",
    "            except yaml.YAMLError as exc:\n",
    "                print(exc)\n",
    "        self.camera_matrix = np.array(camera_data['camera_matrix']['data'])\n",
    "        self.camera_matrix = self.camera_matrix.reshape(3, 3)\n",
    "        self.dist_coeffs = np.array(camera_data['distortion_coefficients']['data'])\n",
    "        self.dist_coeffs = self.dist_coeffs.reshape(1, 5)\n",
    "        self.cameraParams_Intrinsic = [self.camera_matrix[0,0], self.camera_matrix[1,1], \n",
    "                                       self.camera_matrix[0,2], self.camera_matrix[1,2]]\n",
    "        # cameraParams_Intrinsic = [camera_fx, camera_fy, \n",
    "        #                           camera_cx, camera_cy]\n",
    "        \n",
    "    def read_images(self, idx):\n",
    "        self.img_path = self.img_path + str(idx)\n",
    "        self.depth_path = self.depth_path + str(idx)\n",
    "        self.img = cv2.imread(self.img_path)\n",
    "        self.gray = cv2.cvtColor(self.img, cv2.COLOR_BGR2GRAY)\n",
    "        self.depth = cv2.imread(self.depth_path, -cv2.IMREAD_ANYDEPTH)\n",
    "        self.img_dst = cv2.cvtColor(img, cv2.COLOR_BGR2RGB)\n",
    "        \n",
    "    def apriltag_detection(self):\n",
    "        print(\"[INFO] detecting AprilTags...\")\n",
    "        options = apriltag.DetectorOptions(families=\"tag36h11\")\n",
    "        detector = apriltag.Detector(options)\n",
    "        #results = detector.detect(gray)\n",
    "        self.detection_results, dimg = detector.detect(self.gray, return_image=True)\n",
    "        print(\"[INFO] {} total AprilTags detected\".format(len(self.detection_results)))\n",
    "        \n",
    "    def solvePnP(self):\n",
    "        img_pts = self.detection_results[0].corners.reshape(1,4,2)\n",
    "        obj_pt1 = [-s, -s, 0.0]\n",
    "        obj_pt2 = [ s, -s, 0.0]\n",
    "        obj_pt3 = [ s,  s, 0.0]\n",
    "        obj_pt4 = [-s,  s, 0.0]\n",
    "        obj_pts = obj_pt1 + obj_pt2 + obj_pt3 + obj_pt4\n",
    "        obj_pts = np.array(obj_pts).reshape(4,3)\n",
    "        # print(img_pts)\n",
    "        # print(obj_pts)\n",
    "        _, self.r_vec, self.t_vec = cv2.solvePnP(obj_pts, img_pts, self.camera_matrix, \n",
    "                                       self.dist_coeffs, flags=cv2.SOLVEPNP_ITERATIVE)\n",
    "        R_mat, _ = cv2.Rodrigues(self.r_vec)\n",
    "        T = np.hstack((R_mat, self.t_vec)).reshape(3,4)\n",
    "        tag_pose = np.vstack((T, [0,0,0,1])).reshape(4,4)\n",
    "        dist = np.linalg.norm(self.t_vec)\n",
    "    def draw_point(img, tag_2_inv, base2joint):\n",
    "        # --------------- project a point ---------------\n",
    "        tag2joint = np.matmul(tag_2_inv, base2joint)\n",
    "        obj_pts = np.array([tag2joint[0,3], tag2joint[1,3], tag2joint[2,3]]).reshape(1,3)\n",
    "        proj_img_pts, jac = cv2.projectPoints(obj_pts, self.r_vec, self.t_vec, \n",
    "                                              self.camera_matrix, self.dist_coeffs)\n",
    "        proj_img_pts = np.array(proj_img_pts).reshape(2,1)\n",
    "        # --------------- draw a point ---------------\n",
    "        draw_image = cv2.circle(img, (int(proj_img_pts[0]), int(proj_img_pts[1])), \n",
    "                                radius=5, color=(255, 0, 0), thickness=-1)\n",
    "        return draw_image"
   ]
  },
  {
   "cell_type": "code",
   "execution_count": null,
   "id": "0fe972b4",
   "metadata": {},
   "outputs": [],
   "source": []
  }
 ],
 "metadata": {
  "kernelspec": {
   "display_name": "Python 3 (ipykernel)",
   "language": "python",
   "name": "python3"
  },
  "language_info": {
   "codemirror_mode": {
    "name": "ipython",
    "version": 3
   },
   "file_extension": ".py",
   "mimetype": "text/x-python",
   "name": "python",
   "nbconvert_exporter": "python",
   "pygments_lexer": "ipython3",
   "version": "3.8.10"
  }
 },
 "nbformat": 4,
 "nbformat_minor": 5
}
