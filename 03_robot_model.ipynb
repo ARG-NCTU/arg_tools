{
 "cells": [
  {
   "cell_type": "code",
   "execution_count": null,
   "id": "b52fe847",
   "metadata": {},
   "outputs": [],
   "source": [
    "# default_exp robot_model"
   ]
  },
  {
   "cell_type": "markdown",
   "id": "3be2e73f",
   "metadata": {},
   "source": [
    "# robot_model\n",
    "> A toolset for arg all robot model"
   ]
  },
  {
   "cell_type": "code",
   "execution_count": null,
   "id": "3f43f147",
   "metadata": {},
   "outputs": [],
   "source": [
    "# hide\n",
    "from nbdev.showdoc import * "
   ]
  },
  {
   "cell_type": "code",
   "execution_count": null,
   "id": "2d2adb48",
   "metadata": {},
   "outputs": [],
   "source": [
    "#|export\n",
    "#nbdev_comment from __future__ import print_function\n",
    "\n",
    "import gdown\n",
    "from zipfile import ZipFile\n",
    "import xml.etree.cElementTree as ET\n",
    "from urdfpy import URDF\n",
    "import os\n",
    "\n",
    "class robot_model_loader:\n",
    "    def __init__(self, url, name):\n",
    "        self.url = url\n",
    "        self.name = name\n",
    "        \n",
    "    def load(self):\n",
    "        \"\"\"\n",
    "            download a zipfile and unzip it under data directory\n",
    "        \"\"\"\n",
    "        dataset_url = 'https://drive.google.com/u/1/uc?id=' + self.url\n",
    "        dataset_name = self.name\n",
    "        \n",
    "        gdown.download(dataset_url, output=dataset_name + '.zip', quiet=False)\n",
    "        zip = ZipFile(dataset_name + '.zip')\n",
    "        zip.extractall(dataset_name)\n",
    "        zip.close()\n",
    "        \n",
    "    def list_all(self):\n",
    "        \"\"\"\n",
    "            list all urdf or xml file\n",
    "        \"\"\"\n",
    "        for file in os.listdir(self.name):\n",
    "            if file.find('.urdf') != -1 or file.find('.xml') != -1:\n",
    "                print(file,'\\n')\n",
    "        \n",
    "    def show_link(self, path):\n",
    "        \"\"\"\n",
    "            show urdf file link \n",
    "        \"\"\"\n",
    "        \n",
    "        robot = URDF.load(path)\n",
    "        \n",
    "        for link in robot.links:\n",
    "            print(link.name)"
   ]
  },
  {
   "cell_type": "markdown",
   "id": "bade55e8",
   "metadata": {},
   "source": [
    "# Testing example\n",
    "\n",
    "id is the google drive id, filename is your filename in google drive (should be a .zip file )"
   ]
  },
  {
   "cell_type": "code",
   "execution_count": null,
   "id": "74e20973",
   "metadata": {},
   "outputs": [],
   "source": [
    "id = \"1ryZjEXu4xCGIK5vp2fuIqYTl4sUWKjaS\"\n",
    "name = \"husky_ur5\"\n",
    "robot = robot_model_loader(id, name)"
   ]
  },
  {
   "cell_type": "code",
   "execution_count": null,
   "id": "f6cc3494",
   "metadata": {},
   "outputs": [],
   "source": [
    "robot.load()"
   ]
  },
  {
   "cell_type": "code",
   "execution_count": null,
   "id": "f9e290b4",
   "metadata": {},
   "outputs": [],
   "source": [
    "ls"
   ]
  },
  {
   "cell_type": "code",
   "execution_count": null,
   "id": "f1c0dd44",
   "metadata": {},
   "outputs": [],
   "source": [
    "robot.list_all()"
   ]
  },
  {
   "cell_type": "code",
   "execution_count": null,
   "id": "41193556",
   "metadata": {},
   "outputs": [],
   "source": [
    "robot.show_link(\"husky_ur5/husky_ur5.urdf\")"
   ]
  },
  {
   "cell_type": "code",
   "execution_count": null,
   "id": "7138fa40",
   "metadata": {},
   "outputs": [],
   "source": []
  }
 ],
 "metadata": {
  "kernelspec": {
   "display_name": "Python 3 (ipykernel)",
   "language": "python",
   "name": "python3"
  },
  "language_info": {
   "codemirror_mode": {
    "name": "ipython",
    "version": 3
   },
   "file_extension": ".py",
   "mimetype": "text/x-python",
   "name": "python",
   "nbconvert_exporter": "python",
   "pygments_lexer": "ipython3",
   "version": "3.8.10"
  }
 },
 "nbformat": 4,
 "nbformat_minor": 5
}
